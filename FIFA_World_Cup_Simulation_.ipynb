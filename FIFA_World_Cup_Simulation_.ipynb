{
  "nbformat": 4,
  "nbformat_minor": 0,
  "metadata": {
    "colab": {
      "provenance": [],
      "authorship_tag": "ABX9TyN0DxUiqUg0EbPZBSoD90im"
    },
    "kernelspec": {
      "name": "python3",
      "display_name": "Python 3"
    },
    "language_info": {
      "name": "python"
    }
  },
  "cells": [
    {
      "cell_type": "markdown",
      "source": [
        "The ***Monte Carlo simulation*** is used to determine the outcome of each match in the tournament, based on the probabilities of each team winning the *FIFA World Cup*. \n",
        "\n",
        "The simulation generates random numbers to determine the winner of each match, and repeats the process until a single team is left standing as the winner of the tournament.\n",
        "\n",
        "Overall, the use of Monte Carlo simulation in the previous code allows us to estimate the likelihood of different teams winning the tournament, based on their probabilities of winning each match."
      ],
      "metadata": {
        "id": "3JbwsFE9gp_d"
      }
    },
    {
      "cell_type": "code",
      "source": [
        "import random"
      ],
      "metadata": {
        "id": "1lDKtxjXg3g8"
      },
      "execution_count": 77,
      "outputs": []
    },
    {
      "cell_type": "code",
      "source": [
        "def simulate_tournament(teams, probabilities):\n",
        "    # Create a list of teams that are participating in the quarterfinals\n",
        "    tournament_teams = teams\n",
        "\n",
        "    # Simulate the quarterfinals\n",
        "    next_round_teams = []\n",
        "    for i in range(0, len(tournament_teams), 2):\n",
        "        team1 = tournament_teams[i]\n",
        "        team2 = tournament_teams[i + 1] if i + 1 < len(tournament_teams) else None\n",
        "\n",
        "        # Determine the winner of the match using the probabilities\n",
        "        if random.random() < probabilities[team1]:\n",
        "            winner = team1\n",
        "        else:\n",
        "            winner = team2\n",
        "\n",
        "        # Add the winner to the list of teams that will advance to the semifinals\n",
        "        next_round_teams.append(winner)\n",
        "\n",
        "        # Print the result of the match\n",
        "        print(\"Quarterfinals: {} vs {}: {} wins\".format(team1, team2, winner))\n",
        "\n",
        "    # Update the list of teams to include only the teams that advanced to the semifinals\n",
        "    tournament_teams = next_round_teams\n",
        "\n",
        "    # Simulate the semifinals\n",
        "    next_round_teams = []\n",
        "    for i in range(0, len(tournament_teams), 2):\n",
        "        team1 = tournament_teams[i]\n",
        "        team2 = tournament_teams[i + 1] if i + 1 < len(tournament_teams) else None\n",
        "\n",
        "\n",
        "        # Determine the winner of the match using the probabilities\n",
        "        if random.random() < probabilities[team1]:\n",
        "            winner = team1\n",
        "        else:\n",
        "            winner = team2\n",
        "\n",
        "        # Add the winner to the list of teams that will advance to the final\n",
        "        next_round_teams.append(winner)\n",
        "\n",
        "        # Print the result of the match\n",
        "        print(\"Semifinals: {} vs {}: {} wins\".format(team1, team2, winner))\n",
        "\n",
        "    # Update the list of teams to include only the teams that advanced to the final\n",
        "    tournament_teams = next_round_teams\n",
        "\n",
        "    # Simulate the final match\n",
        "    team1 = tournament_teams[0]\n",
        "    team2 = tournament_teams[1] if len(tournament_teams) > 1 else None\n",
        "\n",
        "    # Determine the winner of the match using the probabilities\n",
        "    if random.random() < probabilities[team1]:\n",
        "      winner = team1\n",
        "    else:\n",
        "      winner = team2\n",
        "\n",
        "# Print the result of the final match\n",
        "    print(\"Final: {} vs {}: {} wins\".format(team1, team2, winner))\n",
        "\n",
        "# Return the name of the team that won the tournament\n",
        "    return winner\n"
      ],
      "metadata": {
        "id": "nh8uBVF4SPm4"
      },
      "execution_count": 76,
      "outputs": []
    },
    {
      "cell_type": "code",
      "source": [
        "# Insert teams in the cronological order of play and create a dictionary where to each team is assigned the probability of winning the tournament\n",
        "teams = [\"Croatia\", \"Brasil\", \"Netherlands\", \"Argentina\", \"Morocco\", \"Portugal\", \"England\", \"France\"]\n",
        "probabilities = {\n",
        "    teams[0]: 0.05,\n",
        "    teams[1]: 0.2,\n",
        "    teams[2]: 0.13,\n",
        "    teams[3]: 0.2,\n",
        "    teams[4]: 0.03,\n",
        "    teams[5]: 0.13,\n",
        "    teams[6]: 0.1,\n",
        "    teams[7]: 0.16\n",
        "}\n",
        "\n",
        "# Simulate the tournament and print the name of the winner\n",
        "winner = simulate_tournament(teams, probabilities)\n",
        "print(\"The winner of the FIFA World Cup is: {}\".format(winner))"
      ],
      "metadata": {
        "colab": {
          "base_uri": "https://localhost:8080/"
        },
        "id": "zGgC4UuuSQkS",
        "outputId": "8785a7d8-ee96-4873-de52-a3584b19eb2c"
      },
      "execution_count": 73,
      "outputs": [
        {
          "output_type": "stream",
          "name": "stdout",
          "text": [
            "Quarterfinals: Croatia vs Brasil: Brasil wins\n",
            "Quarterfinals: Netherlands vs Argentina: Argentina wins\n",
            "Quarterfinals: Morocco vs Portugal: Morocco wins\n",
            "Quarterfinals: England vs France: France wins\n",
            "Semifinals: Brasil vs Argentina: Argentina wins\n",
            "Semifinals: Morocco vs France: France wins\n",
            "Final: Argentina vs France: France wins\n",
            "The winner of the FIFA World Cup is: France\n"
          ]
        }
      ]
    },
    {
      "cell_type": "code",
      "source": [
        "# Duplicate the function without the printing to simulate the tournament N times and see the count of wins for each team\n",
        "\n",
        "def simulate_tournament_noprint(teams, probabilities):\n",
        "    # Create a list of teams that are participating in the quarterfinals\n",
        "    tournament_teams = teams\n",
        "\n",
        "    # Simulate the quarterfinals\n",
        "    next_round_teams = []\n",
        "    for i in range(0, len(tournament_teams), 2):\n",
        "        team1 = tournament_teams[i]\n",
        "        team2 = tournament_teams[i + 1] if i + 1 < len(tournament_teams) else None\n",
        "\n",
        "        # Determine the winner of the match using the probabilities\n",
        "        if random.random() < probabilities[team1]:\n",
        "            winner = team1\n",
        "        else:\n",
        "            winner = team2\n",
        "\n",
        "        # Add the winner to the list of teams that will advance to the semifinals\n",
        "        next_round_teams.append(winner)\n",
        "\n",
        "    # Update the list of teams to include only the teams that advanced to the semifinals\n",
        "    tournament_teams = next_round_teams\n",
        "\n",
        "    # Simulate the semifinals\n",
        "    next_round_teams = []\n",
        "    for i in range(0, len(tournament_teams), 2):\n",
        "        team1 = tournament_teams[i]\n",
        "        team2 = tournament_teams[i + 1] if i + 1 < len(tournament_teams) else None\n",
        "\n",
        "        # Determine the winner of the match using the probabilities\n",
        "        if random.random() < probabilities[team1]:\n",
        "            winner = team1\n",
        "        else:\n",
        "            winner = team2\n",
        "\n",
        "        # Add the winner to the list of teams that will advance to the final\n",
        "        next_round_teams.append(winner)\n",
        "\n",
        "    # Update the list of teams to include only the teams that advanced to the final\n",
        "    tournament_teams = next_round_teams\n",
        "\n",
        "    # Simulate the final match\n",
        "    team1 = tournament_teams[0]\n",
        "    team2 = tournament_teams[1] if len(tournament_teams) > 1 else None\n",
        "\n",
        "    # Determine the winner of the match using the probabilities\n",
        "    if random.random() < probabilities[team1]:\n",
        "      winner = team1\n",
        "    else:\n",
        "      winner = team2\n",
        "\n",
        "# Return the name of the team that won the tournament\n",
        "    return winner"
      ],
      "metadata": {
        "id": "prU_1P2FdqPv"
      },
      "execution_count": 56,
      "outputs": []
    },
    {
      "cell_type": "code",
      "source": [
        "# Simulate the tournament N times and collect the results in a list\n",
        "results = []\n",
        "number_of_simulations = 100\n",
        "for i in range(number_of_simulations):\n",
        "    winner = simulate_tournament_noprint(teams, probabilities)\n",
        "    results.append(winner)\n",
        "\n",
        "# Print the frequency of each team winning the tournament\n",
        "for team in teams:\n",
        "    wins = results.count(team)\n",
        "    print(\"{} won {} times the FIFA World Cup\".format(team, wins))"
      ],
      "metadata": {
        "colab": {
          "base_uri": "https://localhost:8080/"
        },
        "id": "1D0EGBZvcbbV",
        "outputId": "38336b81-74f6-424d-e32e-de00d279cd70"
      },
      "execution_count": 75,
      "outputs": [
        {
          "output_type": "stream",
          "name": "stdout",
          "text": [
            "Croatia won 0 times the FIFA World Cup\n",
            "Brasil won 4 times the FIFA World Cup\n",
            "Netherlands won 4 times the FIFA World Cup\n",
            "Argentina won 11 times the FIFA World Cup\n",
            "Morocco won 0 times the FIFA World Cup\n",
            "Portugal won 9 times the FIFA World Cup\n",
            "England won 5 times the FIFA World Cup\n",
            "France won 67 times the FIFA World Cup\n"
          ]
        }
      ]
    },
    {
      "cell_type": "code",
      "source": [],
      "metadata": {
        "id": "IGuHxAWOcuyN"
      },
      "execution_count": null,
      "outputs": []
    }
  ]
}